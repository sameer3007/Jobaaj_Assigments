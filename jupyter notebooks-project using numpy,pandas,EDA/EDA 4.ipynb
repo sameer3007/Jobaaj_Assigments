{
 "cells": [
  {
   "cell_type": "code",
   "execution_count": 1,
   "id": "3375298b-b038-45e1-b2f3-f01c5bff0c8a",
   "metadata": {},
   "outputs": [],
   "source": [
    "import pandas as pd\n",
    "import numpy as np\n",
    "import matplotlib.pyplot as plt\n",
    "import seaborn as sns\n",
    "import plotly.express as px\n",
    "import warnings as wr"
   ]
  },
  {
   "cell_type": "code",
   "execution_count": 2,
   "id": "5c9be4ee-1d31-4644-a73d-5f157fab5c3f",
   "metadata": {},
   "outputs": [],
   "source": [
    "df=pd.read_csv(r'C:\\Users\\sameer sheikh\\OneDrive\\Desktop\\datasets\\cardekho_dataset.csv',index_col=[0])"
   ]
  },
  {
   "cell_type": "code",
   "execution_count": 3,
   "id": "7db3a71e-618c-4e44-b13a-387dcca16653",
   "metadata": {},
   "outputs": [
    {
     "data": {
      "text/html": [
       "<div>\n",
       "<style scoped>\n",
       "    .dataframe tbody tr th:only-of-type {\n",
       "        vertical-align: middle;\n",
       "    }\n",
       "\n",
       "    .dataframe tbody tr th {\n",
       "        vertical-align: top;\n",
       "    }\n",
       "\n",
       "    .dataframe thead th {\n",
       "        text-align: right;\n",
       "    }\n",
       "</style>\n",
       "<table border=\"1\" class=\"dataframe\">\n",
       "  <thead>\n",
       "    <tr style=\"text-align: right;\">\n",
       "      <th></th>\n",
       "      <th>car_name</th>\n",
       "      <th>brand</th>\n",
       "      <th>model</th>\n",
       "      <th>vehicle_age</th>\n",
       "      <th>km_driven</th>\n",
       "      <th>seller_type</th>\n",
       "      <th>fuel_type</th>\n",
       "      <th>transmission_type</th>\n",
       "      <th>mileage</th>\n",
       "      <th>engine</th>\n",
       "      <th>max_power</th>\n",
       "      <th>seats</th>\n",
       "      <th>selling_price</th>\n",
       "    </tr>\n",
       "  </thead>\n",
       "  <tbody>\n",
       "    <tr>\n",
       "      <th>0</th>\n",
       "      <td>Maruti Alto</td>\n",
       "      <td>Maruti</td>\n",
       "      <td>Alto</td>\n",
       "      <td>9</td>\n",
       "      <td>120000</td>\n",
       "      <td>Individual</td>\n",
       "      <td>Petrol</td>\n",
       "      <td>Manual</td>\n",
       "      <td>19.70</td>\n",
       "      <td>796</td>\n",
       "      <td>46.30</td>\n",
       "      <td>5</td>\n",
       "      <td>120000</td>\n",
       "    </tr>\n",
       "    <tr>\n",
       "      <th>1</th>\n",
       "      <td>Hyundai Grand</td>\n",
       "      <td>Hyundai</td>\n",
       "      <td>Grand</td>\n",
       "      <td>5</td>\n",
       "      <td>20000</td>\n",
       "      <td>Individual</td>\n",
       "      <td>Petrol</td>\n",
       "      <td>Manual</td>\n",
       "      <td>18.90</td>\n",
       "      <td>1197</td>\n",
       "      <td>82.00</td>\n",
       "      <td>5</td>\n",
       "      <td>550000</td>\n",
       "    </tr>\n",
       "    <tr>\n",
       "      <th>2</th>\n",
       "      <td>Hyundai i20</td>\n",
       "      <td>Hyundai</td>\n",
       "      <td>i20</td>\n",
       "      <td>11</td>\n",
       "      <td>60000</td>\n",
       "      <td>Individual</td>\n",
       "      <td>Petrol</td>\n",
       "      <td>Manual</td>\n",
       "      <td>17.00</td>\n",
       "      <td>1197</td>\n",
       "      <td>80.00</td>\n",
       "      <td>5</td>\n",
       "      <td>215000</td>\n",
       "    </tr>\n",
       "    <tr>\n",
       "      <th>3</th>\n",
       "      <td>Maruti Alto</td>\n",
       "      <td>Maruti</td>\n",
       "      <td>Alto</td>\n",
       "      <td>9</td>\n",
       "      <td>37000</td>\n",
       "      <td>Individual</td>\n",
       "      <td>Petrol</td>\n",
       "      <td>Manual</td>\n",
       "      <td>20.92</td>\n",
       "      <td>998</td>\n",
       "      <td>67.10</td>\n",
       "      <td>5</td>\n",
       "      <td>226000</td>\n",
       "    </tr>\n",
       "    <tr>\n",
       "      <th>4</th>\n",
       "      <td>Ford Ecosport</td>\n",
       "      <td>Ford</td>\n",
       "      <td>Ecosport</td>\n",
       "      <td>6</td>\n",
       "      <td>30000</td>\n",
       "      <td>Dealer</td>\n",
       "      <td>Diesel</td>\n",
       "      <td>Manual</td>\n",
       "      <td>22.77</td>\n",
       "      <td>1498</td>\n",
       "      <td>98.59</td>\n",
       "      <td>5</td>\n",
       "      <td>570000</td>\n",
       "    </tr>\n",
       "  </tbody>\n",
       "</table>\n",
       "</div>"
      ],
      "text/plain": [
       "        car_name    brand     model  vehicle_age  km_driven seller_type  \\\n",
       "0    Maruti Alto   Maruti      Alto            9     120000  Individual   \n",
       "1  Hyundai Grand  Hyundai     Grand            5      20000  Individual   \n",
       "2    Hyundai i20  Hyundai       i20           11      60000  Individual   \n",
       "3    Maruti Alto   Maruti      Alto            9      37000  Individual   \n",
       "4  Ford Ecosport     Ford  Ecosport            6      30000      Dealer   \n",
       "\n",
       "  fuel_type transmission_type  mileage  engine  max_power  seats  \\\n",
       "0    Petrol            Manual    19.70     796      46.30      5   \n",
       "1    Petrol            Manual    18.90    1197      82.00      5   \n",
       "2    Petrol            Manual    17.00    1197      80.00      5   \n",
       "3    Petrol            Manual    20.92     998      67.10      5   \n",
       "4    Diesel            Manual    22.77    1498      98.59      5   \n",
       "\n",
       "   selling_price  \n",
       "0         120000  \n",
       "1         550000  \n",
       "2         215000  \n",
       "3         226000  \n",
       "4         570000  "
      ]
     },
     "execution_count": 3,
     "metadata": {},
     "output_type": "execute_result"
    }
   ],
   "source": [
    "df.head()"
   ]
  },
  {
   "cell_type": "code",
   "execution_count": 4,
   "id": "ac4d3d0b-3e06-48fa-93b5-f7ea5f473257",
   "metadata": {},
   "outputs": [
    {
     "data": {
      "text/plain": [
       "(15411, 13)"
      ]
     },
     "execution_count": 4,
     "metadata": {},
     "output_type": "execute_result"
    }
   ],
   "source": [
    "df.shape"
   ]
  },
  {
   "cell_type": "code",
   "execution_count": 5,
   "id": "3a41e824-de86-4c8d-a317-45cadb5dd7c4",
   "metadata": {},
   "outputs": [
    {
     "data": {
      "text/plain": [
       "car_name             0\n",
       "brand                0\n",
       "model                0\n",
       "vehicle_age          0\n",
       "km_driven            0\n",
       "seller_type          0\n",
       "fuel_type            0\n",
       "transmission_type    0\n",
       "mileage              0\n",
       "engine               0\n",
       "max_power            0\n",
       "seats                0\n",
       "selling_price        0\n",
       "dtype: int64"
      ]
     },
     "execution_count": 5,
     "metadata": {},
     "output_type": "execute_result"
    }
   ],
   "source": [
    "df.isnull().sum()"
   ]
  },
  {
   "cell_type": "code",
   "execution_count": 6,
   "id": "34f7f968-e350-49fb-bee7-4a88390b9b3a",
   "metadata": {},
   "outputs": [
    {
     "name": "stdout",
     "output_type": "stream",
     "text": [
      "<class 'pandas.core.frame.DataFrame'>\n",
      "Index: 15411 entries, 0 to 19543\n",
      "Data columns (total 13 columns):\n",
      " #   Column             Non-Null Count  Dtype  \n",
      "---  ------             --------------  -----  \n",
      " 0   car_name           15411 non-null  object \n",
      " 1   brand              15411 non-null  object \n",
      " 2   model              15411 non-null  object \n",
      " 3   vehicle_age        15411 non-null  int64  \n",
      " 4   km_driven          15411 non-null  int64  \n",
      " 5   seller_type        15411 non-null  object \n",
      " 6   fuel_type          15411 non-null  object \n",
      " 7   transmission_type  15411 non-null  object \n",
      " 8   mileage            15411 non-null  float64\n",
      " 9   engine             15411 non-null  int64  \n",
      " 10  max_power          15411 non-null  float64\n",
      " 11  seats              15411 non-null  int64  \n",
      " 12  selling_price      15411 non-null  int64  \n",
      "dtypes: float64(2), int64(5), object(6)\n",
      "memory usage: 1.6+ MB\n"
     ]
    }
   ],
   "source": [
    "df.info()"
   ]
  },
  {
   "cell_type": "markdown",
   "id": "89046497-59c2-46d2-ab0b-ec22f4dfc0a2",
   "metadata": {},
   "source": [
    "# data cleaning\n",
    "### 1) handling missing values\n",
    "### 2) handling duplicates\n",
    "### 3) checking datatype\n",
    "### 4) understand the dataset"
   ]
  },
  {
   "cell_type": "code",
   "execution_count": 7,
   "id": "f26ba8c3-87b4-496e-b0d3-0cb60d916d42",
   "metadata": {},
   "outputs": [],
   "source": [
    "#removing unnessory columns\n",
    "df.drop(['car_name','brand'],axis=1,inplace=True)"
   ]
  },
  {
   "cell_type": "code",
   "execution_count": 8,
   "id": "ec6cea9d-95de-44c5-a2c6-ba9f8e843fc3",
   "metadata": {},
   "outputs": [
    {
     "data": {
      "text/plain": [
       "(15411, 11)"
      ]
     },
     "execution_count": 8,
     "metadata": {},
     "output_type": "execute_result"
    }
   ],
   "source": [
    "df.shape"
   ]
  },
  {
   "cell_type": "code",
   "execution_count": 9,
   "id": "2a4e173c-0824-46ed-9760-03ced6af933e",
   "metadata": {},
   "outputs": [
    {
     "data": {
      "text/html": [
       "<div>\n",
       "<style scoped>\n",
       "    .dataframe tbody tr th:only-of-type {\n",
       "        vertical-align: middle;\n",
       "    }\n",
       "\n",
       "    .dataframe tbody tr th {\n",
       "        vertical-align: top;\n",
       "    }\n",
       "\n",
       "    .dataframe thead th {\n",
       "        text-align: right;\n",
       "    }\n",
       "</style>\n",
       "<table border=\"1\" class=\"dataframe\">\n",
       "  <thead>\n",
       "    <tr style=\"text-align: right;\">\n",
       "      <th></th>\n",
       "      <th>model</th>\n",
       "      <th>vehicle_age</th>\n",
       "      <th>km_driven</th>\n",
       "      <th>seller_type</th>\n",
       "      <th>fuel_type</th>\n",
       "      <th>transmission_type</th>\n",
       "      <th>mileage</th>\n",
       "      <th>engine</th>\n",
       "      <th>max_power</th>\n",
       "      <th>seats</th>\n",
       "      <th>selling_price</th>\n",
       "    </tr>\n",
       "  </thead>\n",
       "  <tbody>\n",
       "    <tr>\n",
       "      <th>0</th>\n",
       "      <td>Alto</td>\n",
       "      <td>9</td>\n",
       "      <td>120000</td>\n",
       "      <td>Individual</td>\n",
       "      <td>Petrol</td>\n",
       "      <td>Manual</td>\n",
       "      <td>19.70</td>\n",
       "      <td>796</td>\n",
       "      <td>46.30</td>\n",
       "      <td>5</td>\n",
       "      <td>120000</td>\n",
       "    </tr>\n",
       "    <tr>\n",
       "      <th>1</th>\n",
       "      <td>Grand</td>\n",
       "      <td>5</td>\n",
       "      <td>20000</td>\n",
       "      <td>Individual</td>\n",
       "      <td>Petrol</td>\n",
       "      <td>Manual</td>\n",
       "      <td>18.90</td>\n",
       "      <td>1197</td>\n",
       "      <td>82.00</td>\n",
       "      <td>5</td>\n",
       "      <td>550000</td>\n",
       "    </tr>\n",
       "    <tr>\n",
       "      <th>2</th>\n",
       "      <td>i20</td>\n",
       "      <td>11</td>\n",
       "      <td>60000</td>\n",
       "      <td>Individual</td>\n",
       "      <td>Petrol</td>\n",
       "      <td>Manual</td>\n",
       "      <td>17.00</td>\n",
       "      <td>1197</td>\n",
       "      <td>80.00</td>\n",
       "      <td>5</td>\n",
       "      <td>215000</td>\n",
       "    </tr>\n",
       "    <tr>\n",
       "      <th>3</th>\n",
       "      <td>Alto</td>\n",
       "      <td>9</td>\n",
       "      <td>37000</td>\n",
       "      <td>Individual</td>\n",
       "      <td>Petrol</td>\n",
       "      <td>Manual</td>\n",
       "      <td>20.92</td>\n",
       "      <td>998</td>\n",
       "      <td>67.10</td>\n",
       "      <td>5</td>\n",
       "      <td>226000</td>\n",
       "    </tr>\n",
       "    <tr>\n",
       "      <th>4</th>\n",
       "      <td>Ecosport</td>\n",
       "      <td>6</td>\n",
       "      <td>30000</td>\n",
       "      <td>Dealer</td>\n",
       "      <td>Diesel</td>\n",
       "      <td>Manual</td>\n",
       "      <td>22.77</td>\n",
       "      <td>1498</td>\n",
       "      <td>98.59</td>\n",
       "      <td>5</td>\n",
       "      <td>570000</td>\n",
       "    </tr>\n",
       "  </tbody>\n",
       "</table>\n",
       "</div>"
      ],
      "text/plain": [
       "      model  vehicle_age  km_driven seller_type fuel_type transmission_type  \\\n",
       "0      Alto            9     120000  Individual    Petrol            Manual   \n",
       "1     Grand            5      20000  Individual    Petrol            Manual   \n",
       "2       i20           11      60000  Individual    Petrol            Manual   \n",
       "3      Alto            9      37000  Individual    Petrol            Manual   \n",
       "4  Ecosport            6      30000      Dealer    Diesel            Manual   \n",
       "\n",
       "   mileage  engine  max_power  seats  selling_price  \n",
       "0    19.70     796      46.30      5         120000  \n",
       "1    18.90    1197      82.00      5         550000  \n",
       "2    17.00    1197      80.00      5         215000  \n",
       "3    20.92     998      67.10      5         226000  \n",
       "4    22.77    1498      98.59      5         570000  "
      ]
     },
     "execution_count": 9,
     "metadata": {},
     "output_type": "execute_result"
    }
   ],
   "source": [
    "df.head()"
   ]
  },
  {
   "cell_type": "code",
   "execution_count": 10,
   "id": "bcdc0082-2983-4214-9a51-b257bdb6b20e",
   "metadata": {},
   "outputs": [
    {
     "data": {
      "text/plain": [
       "array(['Alto', 'Grand', 'i20', 'Ecosport', 'Wagon R', 'i10', 'Venue',\n",
       "       'Swift', 'Verna', 'Duster', 'Cooper', 'Ciaz', 'C-Class', 'Innova',\n",
       "       'Baleno', 'Swift Dzire', 'Vento', 'Creta', 'City', 'Bolero',\n",
       "       'Fortuner', 'KWID', 'Amaze', 'Santro', 'XUV500', 'KUV100', 'Ignis',\n",
       "       'RediGO', 'Scorpio', 'Marazzo', 'Aspire', 'Figo', 'Vitara',\n",
       "       'Tiago', 'Polo', 'Seltos', 'Celerio', 'GO', '5', 'CR-V',\n",
       "       'Endeavour', 'KUV', 'Jazz', '3', 'A4', 'Tigor', 'Ertiga', 'Safari',\n",
       "       'Thar', 'Hexa', 'Rover', 'Eeco', 'A6', 'E-Class', 'Q7', 'Z4', '6',\n",
       "       'XF', 'X5', 'Hector', 'Civic', 'D-Max', 'Cayenne', 'X1', 'Rapid',\n",
       "       'Freestyle', 'Superb', 'Nexon', 'XUV300', 'Dzire VXI', 'S90',\n",
       "       'WR-V', 'XL6', 'Triber', 'ES', 'Wrangler', 'Camry', 'Elantra',\n",
       "       'Yaris', 'GL-Class', '7', 'S-Presso', 'Dzire LXI', 'Aura', 'XC',\n",
       "       'Ghibli', 'Continental', 'CR', 'Kicks', 'S-Class', 'Tucson',\n",
       "       'Harrier', 'X3', 'Octavia', 'Compass', 'CLS', 'redi-GO', 'Glanza',\n",
       "       'Macan', 'X4', 'Dzire ZXI', 'XC90', 'F-PACE', 'A8', 'MUX',\n",
       "       'GTC4Lusso', 'GLS', 'X-Trail', 'XE', 'XC60', 'Panamera', 'Alturas',\n",
       "       'Altroz', 'NX', 'Carnival', 'C', 'RX', 'Ghost', 'Quattroporte',\n",
       "       'Gurkha'], dtype=object)"
      ]
     },
     "execution_count": 10,
     "metadata": {},
     "output_type": "execute_result"
    }
   ],
   "source": [
    "df['model'].unique()"
   ]
  },
  {
   "cell_type": "code",
   "execution_count": 11,
   "id": "65463fa5-16d4-407a-a57c-43c673d2fcaa",
   "metadata": {},
   "outputs": [
    {
     "name": "stdout",
     "output_type": "stream",
     "text": [
      "number of categorical features = 4\n",
      "number of numercial features = 7\n",
      "number of discreet features = 2\n",
      "number of continous features = 5\n"
     ]
    }
   ],
   "source": [
    "#getting all different types of features\n",
    "cat_features=[i for i in df.columns if df[i].dtype=='O']\n",
    "print('number of categorical features =',len(cat_features))\n",
    "num_features=[i for i in df.columns if df[i].dtype!='O']\n",
    "print('number of numercial features =',len(num_features))\n",
    "dis_features=[i for i in num_features if len(df[i].unique())<=25]\n",
    "print('number of discreet features =',len(dis_features))\n",
    "con_features=[i for i in num_features if len(df[i].unique())>=25]\n",
    "print('number of continous features =',len(con_features))"
   ]
  },
  {
   "cell_type": "code",
   "execution_count": 12,
   "id": "55ea7b22-28b5-4823-860b-89f9e4cd2035",
   "metadata": {},
   "outputs": [],
   "source": [
    "# separting indepemdant and dependant features\n",
    "x=df.drop(['selling_price'],axis=1)\n",
    "y=df[['selling_price']]"
   ]
  },
  {
   "cell_type": "code",
   "execution_count": 13,
   "id": "024b7768-2e13-4b70-a336-795f74eabcbd",
   "metadata": {},
   "outputs": [
    {
     "data": {
      "text/html": [
       "<div>\n",
       "<style scoped>\n",
       "    .dataframe tbody tr th:only-of-type {\n",
       "        vertical-align: middle;\n",
       "    }\n",
       "\n",
       "    .dataframe tbody tr th {\n",
       "        vertical-align: top;\n",
       "    }\n",
       "\n",
       "    .dataframe thead th {\n",
       "        text-align: right;\n",
       "    }\n",
       "</style>\n",
       "<table border=\"1\" class=\"dataframe\">\n",
       "  <thead>\n",
       "    <tr style=\"text-align: right;\">\n",
       "      <th></th>\n",
       "      <th>model</th>\n",
       "      <th>vehicle_age</th>\n",
       "      <th>km_driven</th>\n",
       "      <th>seller_type</th>\n",
       "      <th>fuel_type</th>\n",
       "      <th>transmission_type</th>\n",
       "      <th>mileage</th>\n",
       "      <th>engine</th>\n",
       "      <th>max_power</th>\n",
       "      <th>seats</th>\n",
       "    </tr>\n",
       "  </thead>\n",
       "  <tbody>\n",
       "    <tr>\n",
       "      <th>0</th>\n",
       "      <td>Alto</td>\n",
       "      <td>9</td>\n",
       "      <td>120000</td>\n",
       "      <td>Individual</td>\n",
       "      <td>Petrol</td>\n",
       "      <td>Manual</td>\n",
       "      <td>19.70</td>\n",
       "      <td>796</td>\n",
       "      <td>46.30</td>\n",
       "      <td>5</td>\n",
       "    </tr>\n",
       "    <tr>\n",
       "      <th>1</th>\n",
       "      <td>Grand</td>\n",
       "      <td>5</td>\n",
       "      <td>20000</td>\n",
       "      <td>Individual</td>\n",
       "      <td>Petrol</td>\n",
       "      <td>Manual</td>\n",
       "      <td>18.90</td>\n",
       "      <td>1197</td>\n",
       "      <td>82.00</td>\n",
       "      <td>5</td>\n",
       "    </tr>\n",
       "    <tr>\n",
       "      <th>2</th>\n",
       "      <td>i20</td>\n",
       "      <td>11</td>\n",
       "      <td>60000</td>\n",
       "      <td>Individual</td>\n",
       "      <td>Petrol</td>\n",
       "      <td>Manual</td>\n",
       "      <td>17.00</td>\n",
       "      <td>1197</td>\n",
       "      <td>80.00</td>\n",
       "      <td>5</td>\n",
       "    </tr>\n",
       "    <tr>\n",
       "      <th>3</th>\n",
       "      <td>Alto</td>\n",
       "      <td>9</td>\n",
       "      <td>37000</td>\n",
       "      <td>Individual</td>\n",
       "      <td>Petrol</td>\n",
       "      <td>Manual</td>\n",
       "      <td>20.92</td>\n",
       "      <td>998</td>\n",
       "      <td>67.10</td>\n",
       "      <td>5</td>\n",
       "    </tr>\n",
       "    <tr>\n",
       "      <th>4</th>\n",
       "      <td>Ecosport</td>\n",
       "      <td>6</td>\n",
       "      <td>30000</td>\n",
       "      <td>Dealer</td>\n",
       "      <td>Diesel</td>\n",
       "      <td>Manual</td>\n",
       "      <td>22.77</td>\n",
       "      <td>1498</td>\n",
       "      <td>98.59</td>\n",
       "      <td>5</td>\n",
       "    </tr>\n",
       "  </tbody>\n",
       "</table>\n",
       "</div>"
      ],
      "text/plain": [
       "      model  vehicle_age  km_driven seller_type fuel_type transmission_type  \\\n",
       "0      Alto            9     120000  Individual    Petrol            Manual   \n",
       "1     Grand            5      20000  Individual    Petrol            Manual   \n",
       "2       i20           11      60000  Individual    Petrol            Manual   \n",
       "3      Alto            9      37000  Individual    Petrol            Manual   \n",
       "4  Ecosport            6      30000      Dealer    Diesel            Manual   \n",
       "\n",
       "   mileage  engine  max_power  seats  \n",
       "0    19.70     796      46.30      5  \n",
       "1    18.90    1197      82.00      5  \n",
       "2    17.00    1197      80.00      5  \n",
       "3    20.92     998      67.10      5  \n",
       "4    22.77    1498      98.59      5  "
      ]
     },
     "execution_count": 13,
     "metadata": {},
     "output_type": "execute_result"
    }
   ],
   "source": [
    "x.head()"
   ]
  },
  {
   "cell_type": "code",
   "execution_count": 14,
   "id": "f8384706-1192-444f-bd8c-9bc9a28db8d2",
   "metadata": {},
   "outputs": [
    {
     "data": {
      "text/html": [
       "<div>\n",
       "<style scoped>\n",
       "    .dataframe tbody tr th:only-of-type {\n",
       "        vertical-align: middle;\n",
       "    }\n",
       "\n",
       "    .dataframe tbody tr th {\n",
       "        vertical-align: top;\n",
       "    }\n",
       "\n",
       "    .dataframe thead th {\n",
       "        text-align: right;\n",
       "    }\n",
       "</style>\n",
       "<table border=\"1\" class=\"dataframe\">\n",
       "  <thead>\n",
       "    <tr style=\"text-align: right;\">\n",
       "      <th></th>\n",
       "      <th>selling_price</th>\n",
       "    </tr>\n",
       "  </thead>\n",
       "  <tbody>\n",
       "    <tr>\n",
       "      <th>0</th>\n",
       "      <td>120000</td>\n",
       "    </tr>\n",
       "    <tr>\n",
       "      <th>1</th>\n",
       "      <td>550000</td>\n",
       "    </tr>\n",
       "    <tr>\n",
       "      <th>2</th>\n",
       "      <td>215000</td>\n",
       "    </tr>\n",
       "    <tr>\n",
       "      <th>3</th>\n",
       "      <td>226000</td>\n",
       "    </tr>\n",
       "    <tr>\n",
       "      <th>4</th>\n",
       "      <td>570000</td>\n",
       "    </tr>\n",
       "  </tbody>\n",
       "</table>\n",
       "</div>"
      ],
      "text/plain": [
       "   selling_price\n",
       "0         120000\n",
       "1         550000\n",
       "2         215000\n",
       "3         226000\n",
       "4         570000"
      ]
     },
     "execution_count": 14,
     "metadata": {},
     "output_type": "execute_result"
    }
   ],
   "source": [
    "y.head()"
   ]
  },
  {
   "cell_type": "code",
   "execution_count": 15,
   "id": "3e78d3c6-ac9f-4428-a4a3-1d4bf30003ed",
   "metadata": {},
   "outputs": [],
   "source": [
    "#label encoding\n",
    "from sklearn.preprocessing import LabelEncoder\n",
    "label=LabelEncoder()\n",
    "x['model']=label.fit_transform(x['model'])"
   ]
  },
  {
   "cell_type": "code",
   "execution_count": 16,
   "id": "d4687e9d-c8f3-4715-9e2e-053bd6680743",
   "metadata": {},
   "outputs": [
    {
     "data": {
      "text/html": [
       "<div>\n",
       "<style scoped>\n",
       "    .dataframe tbody tr th:only-of-type {\n",
       "        vertical-align: middle;\n",
       "    }\n",
       "\n",
       "    .dataframe tbody tr th {\n",
       "        vertical-align: top;\n",
       "    }\n",
       "\n",
       "    .dataframe thead th {\n",
       "        text-align: right;\n",
       "    }\n",
       "</style>\n",
       "<table border=\"1\" class=\"dataframe\">\n",
       "  <thead>\n",
       "    <tr style=\"text-align: right;\">\n",
       "      <th></th>\n",
       "      <th>model</th>\n",
       "      <th>vehicle_age</th>\n",
       "      <th>km_driven</th>\n",
       "      <th>seller_type</th>\n",
       "      <th>fuel_type</th>\n",
       "      <th>transmission_type</th>\n",
       "      <th>mileage</th>\n",
       "      <th>engine</th>\n",
       "      <th>max_power</th>\n",
       "      <th>seats</th>\n",
       "    </tr>\n",
       "  </thead>\n",
       "  <tbody>\n",
       "    <tr>\n",
       "      <th>0</th>\n",
       "      <td>7</td>\n",
       "      <td>9</td>\n",
       "      <td>120000</td>\n",
       "      <td>Individual</td>\n",
       "      <td>Petrol</td>\n",
       "      <td>Manual</td>\n",
       "      <td>19.70</td>\n",
       "      <td>796</td>\n",
       "      <td>46.30</td>\n",
       "      <td>5</td>\n",
       "    </tr>\n",
       "    <tr>\n",
       "      <th>1</th>\n",
       "      <td>54</td>\n",
       "      <td>5</td>\n",
       "      <td>20000</td>\n",
       "      <td>Individual</td>\n",
       "      <td>Petrol</td>\n",
       "      <td>Manual</td>\n",
       "      <td>18.90</td>\n",
       "      <td>1197</td>\n",
       "      <td>82.00</td>\n",
       "      <td>5</td>\n",
       "    </tr>\n",
       "    <tr>\n",
       "      <th>2</th>\n",
       "      <td>118</td>\n",
       "      <td>11</td>\n",
       "      <td>60000</td>\n",
       "      <td>Individual</td>\n",
       "      <td>Petrol</td>\n",
       "      <td>Manual</td>\n",
       "      <td>17.00</td>\n",
       "      <td>1197</td>\n",
       "      <td>80.00</td>\n",
       "      <td>5</td>\n",
       "    </tr>\n",
       "    <tr>\n",
       "      <th>3</th>\n",
       "      <td>7</td>\n",
       "      <td>9</td>\n",
       "      <td>37000</td>\n",
       "      <td>Individual</td>\n",
       "      <td>Petrol</td>\n",
       "      <td>Manual</td>\n",
       "      <td>20.92</td>\n",
       "      <td>998</td>\n",
       "      <td>67.10</td>\n",
       "      <td>5</td>\n",
       "    </tr>\n",
       "    <tr>\n",
       "      <th>4</th>\n",
       "      <td>38</td>\n",
       "      <td>6</td>\n",
       "      <td>30000</td>\n",
       "      <td>Dealer</td>\n",
       "      <td>Diesel</td>\n",
       "      <td>Manual</td>\n",
       "      <td>22.77</td>\n",
       "      <td>1498</td>\n",
       "      <td>98.59</td>\n",
       "      <td>5</td>\n",
       "    </tr>\n",
       "  </tbody>\n",
       "</table>\n",
       "</div>"
      ],
      "text/plain": [
       "   model  vehicle_age  km_driven seller_type fuel_type transmission_type  \\\n",
       "0      7            9     120000  Individual    Petrol            Manual   \n",
       "1     54            5      20000  Individual    Petrol            Manual   \n",
       "2    118           11      60000  Individual    Petrol            Manual   \n",
       "3      7            9      37000  Individual    Petrol            Manual   \n",
       "4     38            6      30000      Dealer    Diesel            Manual   \n",
       "\n",
       "   mileage  engine  max_power  seats  \n",
       "0    19.70     796      46.30      5  \n",
       "1    18.90    1197      82.00      5  \n",
       "2    17.00    1197      80.00      5  \n",
       "3    20.92     998      67.10      5  \n",
       "4    22.77    1498      98.59      5  "
      ]
     },
     "execution_count": 16,
     "metadata": {},
     "output_type": "execute_result"
    }
   ],
   "source": [
    "x.head()"
   ]
  },
  {
   "cell_type": "code",
   "execution_count": 17,
   "id": "65bfb8a0-2833-45ba-ae11-de89f6664fa0",
   "metadata": {},
   "outputs": [
    {
     "data": {
      "text/plain": [
       "array(['Individual', 'Dealer', 'Trustmark Dealer'], dtype=object)"
      ]
     },
     "execution_count": 17,
     "metadata": {},
     "output_type": "execute_result"
    }
   ],
   "source": [
    "x['seller_type'].unique()"
   ]
  },
  {
   "cell_type": "code",
   "execution_count": 18,
   "id": "2bedd0f8-0254-4e1f-854c-eec928e7e6b8",
   "metadata": {},
   "outputs": [
    {
     "data": {
      "text/plain": [
       "array(['Petrol', 'Diesel', 'CNG', 'LPG', 'Electric'], dtype=object)"
      ]
     },
     "execution_count": 18,
     "metadata": {},
     "output_type": "execute_result"
    }
   ],
   "source": [
    "x['fuel_type'].unique()"
   ]
  },
  {
   "cell_type": "code",
   "execution_count": 19,
   "id": "34e3c296-1e08-4a38-8a1b-0e5d97cd2ea4",
   "metadata": {},
   "outputs": [
    {
     "data": {
      "text/plain": [
       "array(['Manual', 'Automatic'], dtype=object)"
      ]
     },
     "execution_count": 19,
     "metadata": {},
     "output_type": "execute_result"
    }
   ],
   "source": [
    "x['transmission_type'].unique()"
   ]
  },
  {
   "cell_type": "code",
   "execution_count": 20,
   "id": "73aa9569-dc75-4c7d-ae1a-216e5d3a63e5",
   "metadata": {},
   "outputs": [
    {
     "data": {
      "text/plain": [
       "array([19.7 , 18.9 , 17.  , 20.92, 22.77, 20.36, 20.51, 18.15, 16.6 ,\n",
       "       22.32, 19.64, 14.41, 28.09, 25.2 , 19.27, 28.4 , 12.99, 21.4 ,\n",
       "       20.85, 16.09, 19.67, 17.4 , 13.6 , 26.59, 17.7 , 17.19, 13.  ,\n",
       "       23.01, 18.6 , 17.92, 15.1 , 23.4 , 22.54, 18.  , 21.  , 15.4 ,\n",
       "       20.89, 26.6 , 22.5 , 17.8 , 20.54, 17.3 , 25.  , 24.  , 18.16,\n",
       "       21.21, 14.  , 16.8 , 25.17, 24.3 , 18.5 , 23.84, 18.78, 11.74,\n",
       "       25.1 , 21.01, 22.74, 21.9 , 15.6 , 19.1 , 22.07, 22.  , 23.1 ,\n",
       "       23.  , 19.08, 18.27, 23.9 , 16.1 , 19.81, 19.44, 18.59, 20.62,\n",
       "       17.01, 17.5 , 12.05, 25.83, 21.79, 13.7 , 16.47, 20.7 , 10.91,\n",
       "       25.8 , 25.32, 19.87, 18.7 , 14.4 , 22.69, 20.73, 16.55, 20.  ,\n",
       "       21.5 , 24.7 , 23.95, 21.63, 17.43, 25.47, 33.54, 15.96, 21.19,\n",
       "       26.  , 12.55, 16.9 , 22.3 , 12.9 , 13.5 , 17.84, 27.28, 24.04,\n",
       "       22.7 , 16.  , 17.6 , 21.7 , 20.45, 17.14, 19.6 , 20.4 , 12.63,\n",
       "       17.1 , 15.37, 11.4 , 13.68, 17.68, 12.3 , 12.19, 17.33, 20.77,\n",
       "       12.07, 20.3 , 27.39, 16.36, 15.8 , 11.29, 20.52, 31.79,  9.17,\n",
       "       20.8 , 14.28, 19.3 , 26.21, 18.1 , 22.9 , 14.94, 13.38, 17.41,\n",
       "       11.5 , 17.03, 18.2 , 13.9 , 12.4 , 19.34, 15.81, 14.21, 15.15,\n",
       "       19.01, 18.12, 30.46, 17.05, 21.94, 24.52, 15.  , 19.  , 13.14,\n",
       "       14.84, 26.2 , 20.63, 10.26, 14.7 , 33.44, 17.2 , 23.26, 11.36,\n",
       "       17.99, 21.13, 20.68, 15.26, 11.57, 19.12, 22.05, 11.8 , 13.93,\n",
       "       16.93, 13.2 , 18.25, 26.32, 19.83, 22.37,  9.5 , 19.16, 16.7 ,\n",
       "       27.3 , 19.5 , 20.14, 19.62, 22.27, 32.52, 11.3 , 15.74, 16.2 ,\n",
       "       24.4 , 18.69, 15.04, 17.66, 12.  , 15.29, 14.3 , 10.1 , 16.02,\n",
       "       15.85, 14.49, 16.5 , 22.48, 22.1 , 15.2 , 10.  , 14.62, 23.7 ,\n",
       "       12.7 , 10.75, 21.38, 20.28, 11.33, 20.5 , 17.11, 22.15, 11.1 ,\n",
       "        8.45, 20.41, 10.5 , 21.14,  9.52, 24.2 , 18.48, 18.88, 20.34,\n",
       "       12.8 , 11.79, 25.5 , 11.88, 12.5 , 19.72, 14.23, 14.1 , 14.12,\n",
       "       11.25, 13.33, 13.4 , 16.38, 13.96, 19.56, 11.  , 15.9 , 27.62,\n",
       "       19.95, 13.1 , 20.46, 12.39, 27.4 , 18.23, 22.8 , 14.59, 18.19,\n",
       "       14.8 , 23.8 , 20.65, 19.4 , 20.64, 26.83, 26.1 , 14.67, 19.59,\n",
       "       12.81, 26.8 , 10.8 , 17.21, 18.56, 17.9 , 16.95, 21.66, 26.08,\n",
       "       12.98, 18.24, 18.53, 12.1 ,  7.81, 26.55, 18.06, 13.45, 11.7 ,\n",
       "       30.48, 21.3 , 14.04, 20.04, 30.47, 12.97, 16.4 , 16.07, 14.24,\n",
       "       21.76, 21.49, 21.27, 14.71, 11.49, 21.56, 19.71, 16.73, 16.11,\n",
       "       14.5 , 19.02, 14.75, 25.6 , 24.07, 19.33, 10.13, 16.05, 10.93,\n",
       "       24.12, 24.8 , 13.24, 14.69, 12.35, 20.2 , 21.74, 15.63, 21.1 ,\n",
       "       14.74, 15.34, 23.5 , 24.29, 15.5 , 16.77, 14.19, 15.11, 18.76,\n",
       "       19.2 , 17.09, 16.46, 13.8 , 20.88, 16.3 , 15.97,  4.  ,  9.26,\n",
       "       12.65, 15.3 , 20.35, 14.42, 20.71, 15.64, 19.39, 14.6 , 10.9 ,\n",
       "        9.  , 21.72, 32.26,  7.5 , 23.87, 19.23, 26.82, 12.51, 15.68,\n",
       "       15.06, 14.57,  9.3 , 12.6 , 11.2 , 12.83, 10.2 , 19.05, 12.62,\n",
       "       10.37, 18.32, 19.91, 18.57, 15.41,  8.9 , 14.11,  8.5 , 11.9 ,\n",
       "       16.78, 18.3 ,  7.94, 10.6 , 18.8 , 11.78,  6.  , 17.54, 11.31,\n",
       "       17.85, 18.4 , 24.1 , 14.38, 10.4 , 15.01, 17.24, 13.29, 19.19,\n",
       "       20.6 ,  8.77, 17.61, 18.42, 12.95, 14.99, 15.92,  8.6 , 17.69,\n",
       "       16.12, 18.84, 19.65, 17.74, 17.18, 13.53])"
      ]
     },
     "execution_count": 20,
     "metadata": {},
     "output_type": "execute_result"
    }
   ],
   "source": [
    "x['mileage'].unique()"
   ]
  },
  {
   "cell_type": "code",
   "execution_count": 21,
   "id": "87c7f533-4a01-4744-9c26-ff0b53b71630",
   "metadata": {},
   "outputs": [
    {
     "data": {
      "text/plain": [
       "array([ 796, 1197,  998, 1498, 1582, 1461, 1998, 1248, 2143, 2494, 1598,\n",
       "       1497, 2523, 2982,  999, 1199, 1086, 2179, 1396, 1198, 1590, 1997,\n",
       "       1493, 1120, 1196, 1186, 1061,  799, 1796, 2993, 1298, 3198, 1995,\n",
       "       1373, 1591, 1968, 1399, 1047, 1353, 2755, 1395, 2498, 1999, 2953,\n",
       "       2393, 2967, 2998, 2995, 1956, 1462, 1799, 2499, 1451, 1194, 1798,\n",
       "       2694, 1496, 1969, 2487, 3604, 1499, 2987, 1599, 2354, 1950, 2148,\n",
       "       4134, 2400, 1984, 2979, 2609, 2092, 5998, 1330, 2956, 3598, 2362,\n",
       "        793, 1368, 3597, 1991, 5461, 1343, 2497, 4367, 1797, 3498, 2698,\n",
       "       1896, 2999, 3855, 4806, 1985, 2771, 2157, 3628, 2198, 2996, 2199,\n",
       "       4395, 3456, 4663, 2773, 6592, 2495, 1781, 2997, 1597, 2596, 4163],\n",
       "      dtype=int64)"
      ]
     },
     "execution_count": 21,
     "metadata": {},
     "output_type": "execute_result"
    }
   ],
   "source": [
    "x['engine'].unique()"
   ]
  },
  {
   "cell_type": "code",
   "execution_count": 22,
   "id": "8919cffc-cdde-4fae-abc8-39e45d9b1ab7",
   "metadata": {},
   "outputs": [
    {
     "data": {
      "text/plain": [
       "array([ 46.3 ,  82.  ,  80.  ,  67.1 ,  98.59,  78.9 ,  67.04, 118.35,\n",
       "        85.  , 126.32, 108.45, 189.08,  88.5 ,  74.  , 170.  , 100.6 ,\n",
       "        83.1 ,  83.14, 103.2 , 126.2 , 117.3 ,  63.  ,  78.  ,  81.86,\n",
       "       168.5 ,  67.  ,  88.76,  62.1 , 140.  ,  88.73,  81.83,  74.96,\n",
       "        94.  ,  81.8 ,  58.16,  68.  , 126.3 , 120.  , 103.6 , 121.  ,\n",
       "       113.42, 152.87,  70.  ,  86.8 ,  73.97,  86.7 ,  64.  , 116.3 ,\n",
       "        53.3 ,  82.9 ,  75.  ,  84.  , 186.  ,  98.6 , 113.4 ,  47.3 ,\n",
       "        90.  ,  85.8 ,  73.9 ,  82.85,  98.96,  68.05, 261.49,  74.02,\n",
       "        99.  ,  67.05, 153.86, 197.  ,  77.  ,  83.8 ,  88.7 ,  61.7 ,\n",
       "       190.  ,  91.1 , 121.3 , 118.  , 147.51,  69.  , 138.  , 105.5 ,\n",
       "       138.1 , 100.  ,  53.26, 174.5 , 115.  , 105.  ,  89.84, 117.6 ,\n",
       "       177.  ,  88.51,  73.  , 174.33, 185.  , 237.36,  88.8 , 241.4 ,\n",
       "        83.11, 335.  ,  67.06,  58.33, 335.25, 254.7 , 123.24, 187.7 ,\n",
       "       204.  , 265.  , 167.68, 171.  , 121.36, 103.26, 147.8 , 130.2 ,\n",
       "       134.  , 103.  , 141.  , 203.  , 110.  , 240.  , 184.  , 168.7 ,\n",
       "       103.52,  94.68, 157.8 ,  58.2 , 108.5 , 163.7 , 120.69,  40.3 ,\n",
       "       147.5 , 171.5 , 108.6 , 103.5 ,  53.64, 241.6 ,  71.  , 187.74,\n",
       "        93.87, 214.56, 280.  , 214.5 , 126.24, 254.8 , 188.  , 167.62,\n",
       "       355.37, 187.4 , 191.7 , 152.  ,  93.7 , 110.4 , 258.  , 138.03,\n",
       "        88.2 ,  83.83, 140.8 ,  57.5 , 149.92,  88.  , 224.  ,  68.1 ,\n",
       "       103.25, 335.2 , 200.  , 241.3 , 321.  , 271.  , 127.  , 313.  ,\n",
       "       102.  ,  68.07, 157.7 ,  72.  , 119.35, 121.31, 626.  , 130.  ,\n",
       "       197.2 , 420.  , 147.94, 153.87, 254.79, 148.  , 177.46, 300.  ,\n",
       "       164.7 , 183.  , 121.4 ,  47.  ,  98.63, 169.  ,  94.93,  80.9 ,\n",
       "       178.  , 138.08, 112.  , 160.  , 139.46, 160.77, 108.49,  38.4 ,\n",
       "        99.23,  80.46, 148.31, 132.  , 201.1 , 260.  , 189.  , 168.  ,\n",
       "        91.19, 178.4 , 108.62, 141.1 , 177.5 , 362.9 , 282.  ,  58.  ,\n",
       "        83.81, 150.  ,  70.02, 181.  , 252.  , 158.2 , 192.  , 335.3 ,\n",
       "       201.15, 218.  ,  72.42, 157.75, 245.  ,  97.9 , 100.57, 116.4 ,\n",
       "       364.9 , 167.6 , 123.37, 102.57, 181.03, 272.  , 235.  , 181.04,\n",
       "       248.  , 179.5 ,  66.  , 104.55, 173.  , 104.5 , 178.3 , 154.  ,\n",
       "       246.7 , 105.94, 244.1 , 215.  ,  53.  , 175.  , 198.5 , 270.9 ,\n",
       "       249.  , 116.6 , 601.  , 301.8 , 138.13, 255.  , 261.4 , 147.6 ,\n",
       "       155.  , 120.7 , 108.  ,  61.6 , 122.4 , 100.5 , 394.3 , 118.3 ,\n",
       "       210.  , 237.4 ,  98.  , 167.67, 163.  , 130.3 , 241.38, 306.  ,\n",
       "       193.1 ,  97.89, 178.49, 161.6 ,  98.97,  84.48, 112.44, 308.  ,\n",
       "        84.82, 158.  ,  76.43, 301.72, 194.3 , 147.4 , 333.  , 500.  ,\n",
       "       194.  , 182.46, 362.07, 440.  ,  58.3 , 450.  , 362.  ,  91.2 ,\n",
       "       258.81, 459.  , 151.89, 600.  ,  59.18, 246.74, 197.13, 158.8 ,\n",
       "       261.5 , 194.4 , 201.  , 103.56,  65.39, 563.  , 296.  , 248.08,\n",
       "       163.2 , 143.  , 156.  , 270.88, 385.  , 402.  , 231.1 , 174.57,\n",
       "       152.88, 552.  , 106.  ,  83.  ,  80.8 , 130.1 , 119.3 ,  62.  ,\n",
       "       259.  , 221.3 ,  75.1 , 349.5 , 170.63, 177.01])"
      ]
     },
     "execution_count": 22,
     "metadata": {},
     "output_type": "execute_result"
    }
   ],
   "source": [
    "x['max_power'].unique()"
   ]
  },
  {
   "cell_type": "code",
   "execution_count": 23,
   "id": "52209a49-6593-4f08-8a9f-a08e8c9bc413",
   "metadata": {},
   "outputs": [],
   "source": [
    "#creating column transformation\n",
    "from sklearn.preprocessing import StandardScaler,OneHotEncoder\n",
    "from sklearn.compose import ColumnTransformer\n",
    "num_scaler=StandardScaler()\n",
    "cat_transformer=OneHotEncoder(drop='first')\n",
    "cat_cols=['seller_type','fuel_type','transmission_type']\n",
    "numeric_cols=x.select_dtypes(exclude='object').columns\n",
    "transformer=ColumnTransformer([('StandardScaler',num_scaler,numeric_cols),\n",
    "                                ('OneHotEncoder',cat_transformer,cat_cols)],remainder='passthrough')"
   ]
  },
  {
   "cell_type": "code",
   "execution_count": 24,
   "id": "9e5dacc9-587d-4df8-81a3-c4e32fc67b03",
   "metadata": {},
   "outputs": [],
   "source": [
    "x=transformer.fit_transform(x)"
   ]
  },
  {
   "cell_type": "code",
   "execution_count": 27,
   "id": "a0765687-46be-46ed-835b-a1b6b4d56503",
   "metadata": {},
   "outputs": [],
   "source": [
    "#separate train and test\n",
    "from sklearn.model_selection import train_test_split\n",
    "x_train,x_test,y_train,y_test=train_test_split(x,y,test_size=0.2,random_state=42)"
   ]
  },
  {
   "cell_type": "markdown",
   "id": "05cf943c-2d63-4bc9-9059-c2134ebbc7a9",
   "metadata": {},
   "source": [
    "# Model trainning and testing"
   ]
  },
  {
   "cell_type": "code",
   "execution_count": 28,
   "id": "450ec485-27be-47f6-ae1d-1da6fd57da76",
   "metadata": {},
   "outputs": [],
   "source": [
    "from sklearn.ensemble import RandomForestRegressor\n",
    "from sklearn.tree import DecisionTreeRegressor\n",
    "from sklearn.linear_model import LinearRegression,Ridge,Lasso\n",
    "from sklearn.neighbors import KNeighborsRegressor\n",
    "from sklearn.metrics import r2_score,mean_absolute_error,mean_squared_error"
   ]
  },
  {
   "cell_type": "code",
   "execution_count": 31,
   "id": "dc1060a7-a5d6-46bf-8bb1-48187a9324d3",
   "metadata": {},
   "outputs": [],
   "source": [
    "#model trainning\n",
    "models={'LinearRegression':LinearRegression(),\n",
    "        'RidgeRegression':Ridge(),\n",
    "        'LassoRegression':Lasso(),\n",
    "         'KNeighborsRegressor':KNeighborsRegressor(),\n",
    "         'RandomForestRegressor':RandomForestRegressor(),\n",
    "         'DecisionTreeRegresso':DecisionTreeRegressor()}"
   ]
  },
  {
   "cell_type": "code",
   "execution_count": 33,
   "id": "2c037b44-b82c-442d-8812-d270aba7cd3a",
   "metadata": {},
   "outputs": [],
   "source": [
    "#create a functoin to evalutae model\n",
    "def evaluate(true,predicted):\n",
    "    print('mse:',mean_squared_error(true,predicted))\n",
    "    print('mae:',mean_absolute_error(true,predicted))\n",
    "    print('rmse:',np.sqrt(mean_squared_error(true,predicted)))\n",
    "    print('r2score:',r2_score(true,predicted))"
   ]
  },
  {
   "cell_type": "code",
   "execution_count": 34,
   "id": "2a8bc85c-9ab3-453b-b728-0781cbc90eb6",
   "metadata": {},
   "outputs": [
    {
     "name": "stdout",
     "output_type": "stream",
     "text": [
      "LinearRegression\n",
      "model performance on trainning set-------------------------------------\n",
      "mse: 306756099359.7596\n",
      "mae: 268101.6070829937\n",
      "rmse: 553855.6665411663\n",
      "r2score: 0.3916933086903014\n",
      "model performance on test set-------------------------------------\n",
      "mse: 252550062888.5655\n",
      "mae: 279618.57941584283\n",
      "rmse: 502543.59302309836\n",
      "r2score: 0.5223787131063803\n",
      "RidgeRegression\n",
      "model performance on trainning set-------------------------------------\n",
      "mse: 306756818740.9266\n",
      "mae: 268059.80146882724\n",
      "rmse: 553856.3159709624\n",
      "r2score: 0.391563315614191\n",
      "model performance on test set-------------------------------------\n",
      "mse: 252540243247.9704\n",
      "mae: 279557.2168930238\n",
      "rmse: 502533.8229890307\n",
      "r2score: 0.5223152844680428\n",
      "LassoRegression\n",
      "model performance on trainning set-------------------------------------\n",
      "mse: 306756104248.6379\n",
      "mae: 268099.2219400299\n",
      "rmse: 553855.6709546611\n",
      "r2score: 0.3916884541244464\n",
      "model performance on test set-------------------------------------\n",
      "mse: 252549134941.56293\n",
      "mae: 279614.7453273891\n",
      "rmse: 502542.66977199353\n",
      "r2score: 0.5223774882141856\n",
      "KNeighborsRegressor\n",
      "model performance on trainning set-------------------------------------\n",
      "mse: 106193489990.26607\n",
      "mae: 91426.3627514601\n",
      "rmse: 325873.42633339413\n",
      "r2score: 0.8223617968281642\n",
      "model performance on test set-------------------------------------\n",
      "mse: 64021344520.150826\n",
      "mae: 112526.34609146934\n",
      "rmse: 253024.39510875393\n",
      "r2score: 0.8974452800897968\n"
     ]
    },
    {
     "name": "stderr",
     "output_type": "stream",
     "text": [
      "C:\\Users\\sameer sheikh\\AppData\\Local\\Temp\\ipykernel_30072\\3781612295.py:4: DataConversionWarning: A column-vector y was passed when a 1d array was expected. Please change the shape of y to (n_samples,), for example using ravel().\n",
      "  model.fit(x_train,y_train)\n"
     ]
    },
    {
     "name": "stdout",
     "output_type": "stream",
     "text": [
      "RandomForestRegressor\n",
      "model performance on trainning set-------------------------------------\n",
      "mse: 19149663274.20162\n",
      "mae: 39655.51404679483\n",
      "rmse: 138382.30838586853\n",
      "r2score: 0.9728449196783607\n",
      "model performance on test set-------------------------------------\n",
      "mse: 52921800993.53196\n",
      "mae: 101619.14328622869\n",
      "rmse: 230047.3885822918\n",
      "r2score: 0.9263312242335324\n",
      "DecisionTreeRegresso\n",
      "model performance on trainning set-------------------------------------\n",
      "mse: 432524990.53644824\n",
      "mae: 5164.819922128488\n",
      "rmse: 20797.23516567643\n",
      "r2score: 0.9994664152675751\n",
      "model performance on test set-------------------------------------\n",
      "mse: 96347969563.12845\n",
      "mae: 125777.12995999567\n",
      "rmse: 310399.69323942385\n",
      "r2score: 0.8769131388424993\n"
     ]
    }
   ],
   "source": [
    "for i in range(len(list(models))):\n",
    "    #trainning\n",
    "    model=list(models.values())[i]\n",
    "    model.fit(x_train,y_train)\n",
    "    #predicton\n",
    "    y_pred_train=model.predict(x_train)\n",
    "    y_pred_test=model.predict(x_test)\n",
    "    #evaluating score\n",
    "    print(list(models.keys())[i])\n",
    "    print('model performance on trainning set-------------------------------------')\n",
    "    evaluate(y_pred_train,y_train)\n",
    "    print('model performance on test set-------------------------------------')\n",
    "    evaluate(y_pred_test,y_test)"
   ]
  },
  {
   "cell_type": "code",
   "execution_count": 36,
   "id": "e8663d0c-2b50-4033-8162-16126c558030",
   "metadata": {},
   "outputs": [],
   "source": [
    "#on the basis of models performance on r2_score randomforest and kneibhours performs best\n",
    "#lets hypertune our best models\n",
    "rf_params={'max_depth':[5,8,15,None,10],\n",
    "          'max_features':[5,7,'auto',8],\n",
    "          'min_samples_split':[2,8,15,20],\n",
    "          'n_estimators':[100,200,500,1000]}\n",
    "kn_params={'n_neighbors':[2,3,10,20,40,50]}"
   ]
  },
  {
   "cell_type": "code",
   "execution_count": 39,
   "id": "7f7d0146-10d1-4d42-b963-01fbed51a907",
   "metadata": {},
   "outputs": [
    {
     "name": "stderr",
     "output_type": "stream",
     "text": [
      "C:\\Users\\sameer sheikh\\anaconda3\\Lib\\site-packages\\sklearn\\model_selection\\_search.py:305: UserWarning: The total space of parameters 6 is smaller than n_iter=100. Running 6 iterations. For exhaustive searches, use GridSearchCV.\n",
      "  warnings.warn(\n"
     ]
    },
    {
     "name": "stdout",
     "output_type": "stream",
     "text": [
      "Fitting 3 folds for each of 6 candidates, totalling 18 fits\n",
      "best params for model KNN are:\n",
      "{'n_neighbors': 10}\n",
      "Fitting 3 folds for each of 100 candidates, totalling 300 fits\n"
     ]
    },
    {
     "name": "stderr",
     "output_type": "stream",
     "text": [
      "C:\\Users\\sameer sheikh\\anaconda3\\Lib\\site-packages\\sklearn\\model_selection\\_search.py:909: DataConversionWarning: A column-vector y was passed when a 1d array was expected. Please change the shape of y to (n_samples,), for example using ravel().\n",
      "  self.best_estimator_.fit(X, y, **fit_params)\n"
     ]
    },
    {
     "name": "stdout",
     "output_type": "stream",
     "text": [
      "best params for model RF are:\n",
      "{'n_estimators': 1000, 'min_samples_split': 2, 'max_features': 8, 'max_depth': 15}\n"
     ]
    }
   ],
   "source": [
    "randomcv_models=[['KNN',KNeighborsRegressor(),kn_params],['RF',RandomForestRegressor(),rf_params]]\n",
    "from sklearn.model_selection import RandomizedSearchCV\n",
    "for i in randomcv_models:\n",
    "    random=RandomizedSearchCV(estimator=i[1],param_distributions=i[2],n_iter=100,cv=3,verbose=2,n_jobs=-1)\n",
    "    random.fit(x_train,y_train)\n",
    "    print(f'best params for model {i[0]} are:')\n",
    "    print(random.best_params_)"
   ]
  },
  {
   "cell_type": "code",
   "execution_count": 40,
   "id": "f84048aa-17a2-4fc4-a441-05184eba7e1d",
   "metadata": {},
   "outputs": [
    {
     "name": "stdout",
     "output_type": "stream",
     "text": [
      "model performance on trainning set-------------------------------------\n",
      "mse: 132103417091.98572\n",
      "mae: 103470.48182998053\n",
      "rmse: 363460.3377151154\n",
      "r2score: 0.7610823133961128\n",
      "model performance on test set-------------------------------------\n",
      "mse: 69636909424.46481\n",
      "mae: 117496.21310411936\n",
      "rmse: 263888.06230003055\n",
      "r2score: 0.8767112078454583\n"
     ]
    },
    {
     "name": "stderr",
     "output_type": "stream",
     "text": [
      "C:\\Users\\sameer sheikh\\AppData\\Local\\Temp\\ipykernel_30072\\2238455712.py:5: DataConversionWarning: A column-vector y was passed when a 1d array was expected. Please change the shape of y to (n_samples,), for example using ravel().\n",
      "  modell.fit(x_train,y_train)\n"
     ]
    },
    {
     "name": "stdout",
     "output_type": "stream",
     "text": [
      "model performance on trainning set-------------------------------------\n",
      "mse: 18197258279.36634\n",
      "mae: 53783.40950766179\n",
      "rmse: 134897.21375686876\n",
      "r2score: 0.974407099159445\n",
      "model performance on test set-------------------------------------\n",
      "mse: 47333514688.13833\n",
      "mae: 98212.65942220567\n",
      "rmse: 217562.66841565058\n",
      "r2score: 0.9333346555279823\n"
     ]
    }
   ],
   "source": [
    "randomcv_models=[['KNN',KNeighborsRegressor(n_neighbors=10)],['RF',RandomForestRegressor(n_estimators=1000,min_samples_split=2,max_features=8, max_depth=15)]]\n",
    "#from sklearn.model_selection import RandomizedSearchCV\n",
    "for i in randomcv_models:\n",
    "    modell=i[1]\n",
    "    modell.fit(x_train,y_train)\n",
    "    #predicton\n",
    "    y_pred_train=modell.predict(x_train)\n",
    "    y_pred_test=modell.predict(x_test)\n",
    "    #evaluating score\n",
    "    print('model performance on trainning set-------------------------------------')\n",
    "    evaluate(y_pred_train,y_train)\n",
    "    print('model performance on test set-------------------------------------')\n",
    "    evaluate(y_pred_test,y_test)"
   ]
  },
  {
   "cell_type": "code",
   "execution_count": null,
   "id": "836537d4-05d8-490a-b849-00fb73870d77",
   "metadata": {},
   "outputs": [],
   "source": []
  }
 ],
 "metadata": {
  "kernelspec": {
   "display_name": "Python 3 (ipykernel)",
   "language": "python",
   "name": "python3"
  },
  "language_info": {
   "codemirror_mode": {
    "name": "ipython",
    "version": 3
   },
   "file_extension": ".py",
   "mimetype": "text/x-python",
   "name": "python",
   "nbconvert_exporter": "python",
   "pygments_lexer": "ipython3",
   "version": "3.11.7"
  }
 },
 "nbformat": 4,
 "nbformat_minor": 5
}
